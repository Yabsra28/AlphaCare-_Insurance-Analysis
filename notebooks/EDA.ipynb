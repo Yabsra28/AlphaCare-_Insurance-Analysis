{
 "cells": [
  {
   "cell_type": "code",
   "execution_count": 2,
   "metadata": {},
   "outputs": [],
   "source": [
    "import pandas as pd\n",
    "import numpy as np\n",
    "import matplotlib.pyplot as plt\n",
    "import seaborn as sns\n",
    "import sys\n",
    "import os"
   ]
  },
  {
   "cell_type": "code",
   "execution_count": null,
   "metadata": {},
   "outputs": [],
   "source": [
    "# Load the dataset\n",
    "data = pd.read_csv('../data/MachineLearningRating_v3.txt',  sep='|', low_memory=False)"
   ]
  },
  {
   "cell_type": "code",
   "execution_count": null,
   "metadata": {},
   "outputs": [],
   "source": [
    "# Display the first few rows\n",
    "data.head()"
   ]
  },
  {
   "cell_type": "code",
   "execution_count": null,
   "metadata": {},
   "outputs": [],
   "source": [
    "data.shape"
   ]
  },
  {
   "cell_type": "code",
   "execution_count": null,
   "metadata": {},
   "outputs": [],
   "source": [
    "data.info"
   ]
  },
  {
   "cell_type": "code",
   "execution_count": null,
   "metadata": {},
   "outputs": [],
   "source": [
    "# Check for missing values\n",
    "missing_values = data.isnull().sum()\n",
    "missing_values[missing_values > 0]  # Display only columns with missing values"
   ]
  },
  {
   "cell_type": "code",
   "execution_count": null,
   "metadata": {},
   "outputs": [],
   "source": [
    "# Drop columns with a high percentage of missing values\n",
    "columns_to_drop = ['CustomValueEstimate', 'CrossBorder', 'WrittenOff', 'Rebuilt', 'Converted', 'NumberOfVehiclesInFleet', 'Bank']\n",
    "data_cleaned = data.drop(columns=columns_to_drop)"
   ]
  },
  {
   "cell_type": "code",
   "execution_count": null,
   "metadata": {},
   "outputs": [],
   "source": [
    "# Impute missing values with the mode for categorical columns\n",
    "categorical_columns = ['AccountType', 'MaritalStatus', 'Gender', 'VehicleType', 'make', 'Model', 'Cylinders', 'bodytype', 'NumberOfDoors', 'NewVehicle']\n",
    "for column in categorical_columns:\n",
    "    data_cleaned[column] = data_cleaned[column].fillna(data_cleaned[column].mode()[0])"
   ]
  },
  {
   "cell_type": "code",
   "execution_count": null,
   "metadata": {},
   "outputs": [],
   "source": [
    "# Drop rows with missing values in columns with very few missing data\n",
    "data_cleaned.dropna(subset=['CapitalOutstanding', 'VehicleIntroDate'], inplace=True)"
   ]
  },
  {
   "cell_type": "code",
   "execution_count": null,
   "metadata": {},
   "outputs": [],
   "source": [
    "# Impute missing values for numeric columns with the mean\n",
    "numeric_columns = ['mmcode', 'cubiccapacity', 'kilowatts']\n",
    "for column in numeric_columns:\n",
    "    data_cleaned[column] = data_cleaned[column].fillna(data_cleaned[column].mean())"
   ]
  },
  {
   "cell_type": "code",
   "execution_count": null,
   "metadata": {},
   "outputs": [],
   "source": [
    "# Check again for missing values\n",
    "data_cleaned.isnull().sum()"
   ]
  },
  {
   "cell_type": "code",
   "execution_count": null,
   "metadata": {},
   "outputs": [],
   "source": [
    "\n",
    "# Basic statistics for numerical columns\n",
    "numerical_summary = data_cleaned.describe()\n",
    "\n",
    "# Basic statistics for categorical columns (frequency counts)\n",
    "categorical_columns = data_cleaned.select_dtypes(include=['object', 'category']).columns\n",
    "categorical_summary = data_cleaned[categorical_columns].describe()\n",
    "\n",
    "# Display the results\n",
    "print(\"Numerical Summary:\")\n",
    "print(numerical_summary)"
   ]
  },
  {
   "cell_type": "code",
   "execution_count": null,
   "metadata": {},
   "outputs": [],
   "source": [
    "print(\"\\nCategorical Summary:\")\n",
    "print(categorical_summary)"
   ]
  },
  {
   "cell_type": "code",
   "execution_count": null,
   "metadata": {},
   "outputs": [],
   "source": [
    "import matplotlib.pyplot as plt\n",
    "import seaborn as sns\n",
    "\n",
    "# Select the numerical columns\n",
    "numerical_columns = ['RegistrationYear', 'cubiccapacity', 'kilowatts', \n",
    "                     'SumInsured', 'CalculatedPremiumPerTerm', \n",
    "                     'TotalPremium', 'TotalClaims']\n",
    "\n",
    "# Plot histograms and box plots for numerical columns\n",
    "for column in numerical_columns:\n",
    "    plt.figure(figsize=(12, 5))\n",
    "    \n",
    "    # Histogram\n",
    "    plt.subplot(1, 2, 1)\n",
    "    sns.histplot(data_cleaned[column], kde=True, bins=30, color='blue')\n",
    "    plt.title(f'Distribution of {column}')\n",
    "    \n",
    "    # Box plot\n",
    "    plt.subplot(1, 2, 2)\n",
    "    sns.boxplot(x=data_cleaned[column], color='green')\n",
    "    plt.title(f'Boxplot of {column}')\n",
    "    \n",
    "    plt.tight_layout()\n",
    "    plt.show()"
   ]
  },
  {
   "cell_type": "code",
   "execution_count": null,
   "metadata": {},
   "outputs": [],
   "source": [
    "# Plot bar charts for categorical columns with top 10 high count values\n",
    "for column in categorical_columns:\n",
    "    # Get top 10 categories by count\n",
    "    top_10_categories = data_cleaned[column].value_counts().nlargest(10).index\n",
    "    # Filter the data to only include rows with the top 10 categories\n",
    "    filtered_data = data_cleaned[data_cleaned[column].isin(top_10_categories)]\n",
    "    \n",
    "    plt.figure(figsize=(10, 5))\n",
    "    sns.countplot(data=filtered_data, x=column, color='skyblue', order=top_10_categories)\n",
    "    plt.title(f'Top 10 Count of {column}')\n",
    "    plt.xticks(rotation=45)\n",
    "    plt.show()"
   ]
  },
  {
   "cell_type": "code",
   "execution_count": null,
   "metadata": {},
   "outputs": [],
   "source": [
    "# Scatter plot between numerical variables\n",
    "def plot_scatter_matrix(df, columns):\n",
    "    sns.pairplot(df[columns])\n",
    "    plt.show()\n",
    "\n",
    "# Selecting a subset of numerical columns for demonstration\n",
    "numeric_cols = ['SumInsured', 'TotalPremium', 'TotalClaims', 'CalculatedPremiumPerTerm']\n",
    "plot_scatter_matrix(data_cleaned, numeric_cols)"
   ]
  },
  {
   "cell_type": "code",
   "execution_count": null,
   "metadata": {},
   "outputs": [],
   "source": [
    "\n",
    "# Boxplot for categorical vs. numerical variables\n",
    "def plot_categorical_numerical(df, categorical_col, numerical_col):\n",
    "    plt.figure(figsize=(10, 6))\n",
    "    sns.boxplot(data=df, x=categorical_col, y=numerical_col)\n",
    "    plt.title(f'{categorical_col} vs {numerical_col}')\n",
    "    plt.xticks(rotation=45)\n",
    "    plt.show()\n",
    "\n",
    "# MaritalStatus vs TotalPremium\n",
    "plot_categorical_numerical(data_cleaned, 'MaritalStatus', 'TotalPremium')\n",
    "\n",
    "# VehicleType vs SumInsured\n",
    "plot_categorical_numerical(data_cleaned, 'VehicleType', 'SumInsured')"
   ]
  },
  {
   "cell_type": "code",
   "execution_count": null,
   "metadata": {},
   "outputs": [],
   "source": [
    "\n",
    "# Count plot for two categorical variables\n",
    "def plot_categorical_vs_categorical(df, cat1, cat2):\n",
    "    plt.figure(figsize=(10, 6))\n",
    "    sns.countplot(data=df, x=cat1, hue=cat2)\n",
    "    plt.title(f'{cat1} vs {cat2}')\n",
    "    plt.xticks(rotation=45)\n",
    "    plt.show()\n",
    "\n",
    "# LegalType vs MaritalStatus\n",
    "plot_categorical_vs_categorical(data_cleaned, 'LegalType', 'MaritalStatus')\n",
    "\n",
    "# CoverType vs AccountType\n",
    "plot_categorical_vs_categorical(data_cleaned, 'CoverType', 'AccountType')"
   ]
  },
  {
   "cell_type": "code",
   "execution_count": null,
   "metadata": {},
   "outputs": [],
   "source": [
    "# Select only numeric columns\n",
    "numeric_data = data_cleaned.select_dtypes(include=[np.number])\n",
    "\n",
    "# Correlation matrix of numerical variables\n",
    "plt.figure(figsize=(12, 8))\n",
    "sns.heatmap(numeric_data.corr(), annot=True, cmap='coolwarm')\n",
    "plt.title('Correlation Matrix')\n",
    "plt.show()"
   ]
  },
  {
   "cell_type": "code",
   "execution_count": null,
   "metadata": {},
   "outputs": [],
   "source": [
    "# IQR Method\n",
    "def detect_outliers_iqr(df, columns):\n",
    "    outliers = pd.DataFrame()\n",
    "    for column in columns:\n",
    "        Q1 = df[column].quantile(0.25)\n",
    "        Q3 = df[column].quantile(0.75)\n",
    "        IQR = Q3 - Q1\n",
    "        # Identify outliers\n",
    "        column_outliers = df[(df[column] < (Q1 - 1.5 * IQR)) | (df[column] > (Q3 + 1.5 * IQR))]\n",
    "        if not column_outliers.empty:\n",
    "            outliers = pd.concat([outliers, column_outliers], axis=0)\n",
    "        print(f'Outliers in {column} using IQR Method:')\n",
    "        print(column_outliers[[column]].head())\n",
    "    return outliers"
   ]
  },
  {
   "cell_type": "code",
   "execution_count": null,
   "metadata": {},
   "outputs": [],
   "source": [
    "# Detect outliers using IQR Method\n",
    "outliers_iqr = detect_outliers_iqr(data_cleaned, numeric_columns)"
   ]
  },
  {
   "cell_type": "code",
   "execution_count": null,
   "metadata": {},
   "outputs": [],
   "source": [
    "# Visualizing Outliers with Box Plots\n",
    "def visualize_outliers(df, columns):\n",
    "    plt.figure(figsize=(16, len(columns) * 2.5))\n",
    "    for i, column in enumerate(columns):\n",
    "        plt.subplot(len(columns)//3 + 1, 3, i + 1)\n",
    "        sns.boxplot(df[column])\n",
    "        plt.title(f'Box Plot of {column}')\n",
    "    plt.tight_layout()\n",
    "    plt.show()"
   ]
  },
  {
   "cell_type": "code",
   "execution_count": null,
   "metadata": {},
   "outputs": [],
   "source": [
    "# Log transformation on 'cubiccapacity' and 'kilowatts'\n",
    "data_cleaned['log_cubiccapacity'] = np.log1p(data_cleaned['cubiccapacity'])  # log1p applies log(x + 1)\n",
    "data_cleaned['log_kilowatts'] = np.log1p(data_cleaned['kilowatts'])\n",
    "\n",
    "# Square root transformation on 'mmcode'\n",
    "data_cleaned['sqrt_mmcode'] = np.sqrt(data_cleaned['mmcode'])\n",
    "\n",
    "# Check the new transformed data\n",
    "print(data_cleaned[['log_cubiccapacity', 'log_kilowatts', 'sqrt_mmcode']].head())\n",
    "\n",
    "# You can visualize the transformed columns to check for improvement\n",
    "plt.figure(figsize=(16, 5))\n",
    "\n",
    "plt.subplot(1, 3, 1)\n",
    "sns.boxplot(data=data_cleaned, x='log_cubiccapacity')\n",
    "plt.title('Log Transformed cubiccapacity')\n",
    "\n",
    "plt.subplot(1, 3, 2)\n",
    "sns.boxplot(data=data_cleaned, x='log_kilowatts')\n",
    "plt.title('Log Transformed kilowatts')\n",
    "\n",
    "plt.subplot(1, 3, 3)\n",
    "sns.boxplot(data=data_cleaned, x='sqrt_mmcode')\n",
    "plt.title('Square Root Transformed mmcode')\n",
    "\n",
    "plt.tight_layout()\n",
    "plt.show()"
   ]
  },
  {
   "cell_type": "code",
   "execution_count": null,
   "metadata": {},
   "outputs": [],
   "source": [
    "from sklearn.preprocessing import StandardScaler, MinMaxScaler\n",
    "\n",
    "# Applying Standard Scaling (z-score normalization)\n",
    "scaler = StandardScaler()\n",
    "data_cleaned[['scaled_log_cubiccapacity', 'scaled_log_kilowatts', 'scaled_sqrt_mmcode']] = scaler.fit_transform(data_cleaned[['log_cubiccapacity', 'log_kilowatts', 'sqrt_mmcode']])"
   ]
  },
  {
   "cell_type": "code",
   "execution_count": null,
   "metadata": {},
   "outputs": [],
   "source": [
    "\n",
    "data_cleaned.to_csv('../data/data_cleaned.csv',index=False)"
   ]
  }
 ],
 "metadata": {
  "kernelspec": {
   "display_name": ".myenv",
   "language": "python",
   "name": "python3"
  },
  "language_info": {
   "codemirror_mode": {
    "name": "ipython",
    "version": 3
   },
   "file_extension": ".py",
   "mimetype": "text/x-python",
   "name": "python",
   "nbconvert_exporter": "python",
   "pygments_lexer": "ipython3",
   "version": "3.12.5"
  }
 },
 "nbformat": 4,
 "nbformat_minor": 2
}
